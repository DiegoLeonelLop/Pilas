{
  "nbformat": 4,
  "nbformat_minor": 0,
  "metadata": {
    "colab": {
      "name": "Pilas.ipynb",
      "provenance": []
    },
    "kernelspec": {
      "name": "python3",
      "display_name": "Python 3"
    },
    "language_info": {
      "name": "python"
    }
  },
  "cells": [
    {
      "cell_type": "code",
      "metadata": {
        "id": "FbAwT-H2M1-J"
      },
      "source": [
        "class StackADT:\n",
        "    def __init__( self ):\n",
        "        self.__data= list()\n",
        "\n",
        "    # regresa true si la pila esta vacia \n",
        "    def is_empty( self ):\n",
        "         return len( self.__data )==0\n",
        "        \n",
        "    def get_length( self ):\n",
        "        return len( self.__data)\n",
        "\n",
        "    def pop( self ):\n",
        "        if self.is_empty():\n",
        "            print(\"Pila vacia, nada que sacar\")\n",
        "        else:\n",
        "            return self.__data.pop()\n",
        "\n",
        "    def peek( self ):\n",
        "        if self.is_empty():\n",
        "            print(\"Pila vacia, nada que sacar\")\n",
        "        else:\n",
        "            return self.__data[ -1 ]\n",
        "\n",
        "    def push( self, value ):\n",
        "        self.__data.append( value )\n",
        "    \n",
        "    def to_string( self ):\n",
        "        for item in self.__data[::-1]:\n",
        "            print(f\"|  { item }   |\")"
      ],
      "execution_count": null,
      "outputs": []
    },
    {
      "cell_type": "code",
      "metadata": {
        "colab": {
          "base_uri": "https://localhost:8080/"
        },
        "id": "AbtXNxRPOgRA",
        "outputId": "54fbfbeb-94cc-4dd4-addb-47f2b7f68d59"
      },
      "source": [
        "pila = StackADT()\n",
        "print(\"Esta vacia? =\" , pila.is_empty())\n",
        "print(\"# elementos: \", pila.get_length())\n",
        "pila.push(10)\n",
        "print(\"Esta vacia? =\" , pila.is_empty())\n",
        "print(\"# elementos: \", pila.get_length())\n",
        "pila.push(20)\n",
        "pila.push(30)\n",
        "pila.push(40)\n",
        "pila.to_string()\n",
        "print ( pila.pop()) #40\n",
        "print(pila.peek())\n",
        "pila.to_string()"
      ],
      "execution_count": null,
      "outputs": [
        {
          "output_type": "stream",
          "name": "stdout",
          "text": [
            "Esta vacia? = True\n",
            "# elementos:  0\n",
            "Esta vacia? = False\n",
            "# elementos:  1\n",
            "|  40   |\n",
            "|  30   |\n",
            "|  20   |\n",
            "|  10   |\n",
            "40\n",
            "30\n",
            "|  30   |\n",
            "|  20   |\n",
            "|  10   |\n"
          ]
        }
      ]
    },
    {
      "cell_type": "code",
      "metadata": {
        "colab": {
          "base_uri": "https://localhost:8080/"
        },
        "id": "6AbHFhitznW6",
        "outputId": "897438fd-0fbc-4cdb-98d0-b30b940fa64a"
      },
      "source": [
        "!cat prog.txt\n",
        " "
      ],
      "execution_count": null,
      "outputs": [
        {
          "output_type": "stream",
          "name": "stdout",
          "text": [
            "cat: prog.txt: No such file or directory\n"
          ]
        }
      ]
    },
    {
      "cell_type": "code",
      "metadata": {
        "colab": {
          "base_uri": "https://localhost:8080/"
        },
        "id": "xMV2zNl0zwg6",
        "outputId": "266c82d7-eb2d-4195-da8d-f6bb0bd52758"
      },
      "source": [
        "entrada = open('prog.txt' , 'rt')\n",
        "codigo = entrada.read()\n",
        "\n",
        "#print( codigo )\n",
        "pilaControl = StackADT()\n",
        "pilaControl.push(\"#\")     #caracter de pila vacia\n",
        "\n",
        "for letra in codigo:\n",
        "    #print(f--> {letra } <---)\n",
        "    if letra == '{' :  #regla 1\n",
        "        pilaControl.push(\"{\")\n",
        "    elif letra == '}':\n",
        "        basura = pilaControl.pop()\n",
        "    else:\n",
        "        pass\n",
        "# NOTA : este codigo aun no contempla desbalanceo \n",
        "if pilaControl.peek() == '#':\n",
        "    print(\"El codigo proporcionado esta correctamente balanceado\")\n",
        "else:\n",
        "    print(\"El codigo no esta balanceado en llaves { y }\")\n"
      ],
      "execution_count": 22,
      "outputs": [
        {
          "output_type": "stream",
          "name": "stdout",
          "text": [
            "Pila vacia, nada que sacar\n",
            "Pila vacia, nada que sacar\n",
            "Pila vacia, nada que sacar\n",
            "Pila vacia, nada que sacar\n",
            "Pila vacia, nada que sacar\n",
            "Pila vacia, nada que sacar\n",
            "Pila vacia, nada que sacar\n",
            "El codigo no esta balanceado en llaves { y }\n"
          ]
        }
      ]
    },
    {
      "cell_type": "markdown",
      "metadata": {
        "id": "sVkx4NkW7b-x"
      },
      "source": [
        "Aplicacion de Pilas\n"
      ]
    }
  ]
}